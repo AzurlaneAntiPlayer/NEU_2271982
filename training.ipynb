{
 "cells": [
  {
   "cell_type": "code",
   "execution_count": null,
   "id": "2c12da1f",
   "metadata": {},
   "outputs": [],
   "source": [
    "# import tensorflow as tf\n",
    "import tensorflow.compat.v1 as tf\n",
    "tf.disable_v2_behavior()\n",
    "import os\n",
    "import numpy as np\n",
    "import matplotlib.pyplot as plt\n",
    "import input_data\n",
    "import model"
   ]
  },
  {
   "cell_type": "code",
   "execution_count": null,
   "id": "a4a81f42",
   "metadata": {},
   "outputs": [],
   "source": [
    "N_CLASSES = 2  # 分类数，猫和狗\n",
    "IMG_W = 208  # resize图片宽高，太大的话训练时间久\n",
    "IMG_H = 208\n",
    "BATCH_SIZE = 16  # 每批次读取数据的数量\n",
    "CAPACITY = 2000  # 队列最大容量\n",
    "MAX_STEP = 10000  # 训练最大步数，一般5K~10k\n",
    "learning_rate = 0.0001  # 学习率，一般小于0.0001\n"
   ]
  },
  {
   "cell_type": "code",
   "execution_count": null,
   "id": "8a2d6b5b",
   "metadata": {},
   "outputs": [],
   "source": [
    "train_dir = 'D:/Software/ANACONDA/envs/tensorflow2.0-cpu/train/'                 # 训练集的文件夹路径\n",
    "logs_train_dir = 'D:/Software/ANACONDA/envs/tensorflow2.0-cpu/log/'  # 记录训练过程与保存模型的路径\n"
   ]
  },
  {
   "cell_type": "code",
   "execution_count": null,
   "id": "56fa38c1",
   "metadata": {},
   "outputs": [],
   "source": [
    "# 获取要训练的图片和对应的图片标签, 这里返回的train_img是存放猫狗图片路径的列表，train_label是存放对train对应标签的列表(0是猫，1是狗)\n",
    "train_img, train_label = input_data.get_files(train_dir)\n"
   ]
  },
  {
   "cell_type": "code",
   "execution_count": null,
   "id": "baa1b535",
   "metadata": {},
   "outputs": [],
   "source": [
    "# 读取队列中的数据\n",
    "train_batch, train_label_batch = input_data.get_batch(train_img, train_label, IMG_W, IMG_H, BATCH_SIZE, CAPACITY)\n"
   ]
  },
  {
   "cell_type": "code",
   "execution_count": null,
   "id": "2adf19ee",
   "metadata": {},
   "outputs": [],
   "source": [
    "# 调用model方法得到返回值, 进行变量赋值\n",
    "train_logits = model.cnn_inference(train_batch, BATCH_SIZE, N_CLASSES)\n",
    "train_loss = model.losses(train_logits, train_label_batch)\n",
    "train_op = model.training(train_loss, learning_rate)\n",
    "train_acc = model.evaluation(train_logits, train_label_batch)\n"
   ]
  },
  {
   "cell_type": "code",
   "execution_count": null,
   "id": "b1972d5a",
   "metadata": {},
   "outputs": [],
   "source": [
    "summary_op = tf.summary.merge_all()  # 将所有summary全部保存到磁盘，以便tensorboard显示\n"
   ]
  },
  {
   "cell_type": "code",
   "execution_count": null,
   "id": "ca78d866",
   "metadata": {},
   "outputs": [],
   "source": [
    "accuracy_list = []   # 记录准确率(每50步存一次)\n",
    "loss_list = []       # 记录损失值(每50步存一次)\n",
    "step_list = []       # 记录训练步数(每50步存一次)\n"
   ]
  },
  {
   "cell_type": "code",
   "execution_count": null,
   "id": "4a0bca4a",
   "metadata": {},
   "outputs": [],
   "source": [
    "with tf.Session() as sess:\n",
    "    sess.run(tf.global_variables_initializer())                        # 变量初始化，如果存在变量则是必不可少的操作\n",
    "\n",
    "    train_writer = tf.summary.FileWriter(logs_train_dir, sess.graph)   # 用于向logs_train_dir写入summary(训练)的目标文件\n",
    "    saver = tf.train.Saver()                                           # 用于存储训练好的模型\n",
    "\n",
    "    # 队列监控（训练的batch数据用到了队列）\n",
    "    coord = tf.train.Coordinator()   # 创建线程协调器\n",
    "    threads = tf.train.start_queue_runners(sess=sess, coord=coord)\n",
    "\n",
    "    try:\n",
    "        # 执行MAX_STEP步的训练，一步一个batch\n",
    "        for step in np.arange(MAX_STEP):\n",
    "            if coord.should_stop():   # 队列中的所有数据已被读出，无数据可读时终止训练\n",
    "                break\n",
    "\n",
    "            _op, tra_loss, tra_acc = sess.run([train_op, train_loss, train_acc])   # 在会话中才能读取tensorflow的变量值\n",
    "\n",
    "            # 每隔50步打印一次当前的loss以及acc，同时记录log，写入writer\n",
    "            if step % 50 == 0:\n",
    "                print('Step %d, train loss = %.2f, train accuracy = %.2f%%' % (step, tra_loss, tra_acc * 100.0))\n",
    "                summary_train = sess.run(summary_op)            # 调用sess.run()，生成的训练数据\n",
    "                train_writer.add_summary(summary_train, step)   # 将训练过程及训练步数保存\n",
    "\n",
    "            # 每隔100步画图，记录训练的准确率和损失值的结点\n",
    "            if step % 100 == 0:\n",
    "                accuracy_list.append(tra_acc)\n",
    "                loss_list.append(tra_loss)\n",
    "                step_list.append(step)\n",
    "\n",
    "            # 每隔5000步，保存一次训练好的模型（即：训练好的模型的参数保存下来）\n",
    "            if step % 5000 == 0 or (step + 1) == MAX_STEP:\n",
    "                # ckpt文件是一个二进制文件，它把变量名映射到对应的tensor值\n",
    "                checkpoint_path = os.path.join(logs_train_dir, 'model.ckpt')\n",
    "                saver.save(sess, checkpoint_path, global_step=step)\n",
    "\n",
    "        plt.figure()                    # 建立可视化图像框\n",
    "        plt.plot(step_list, accuracy_list, color='b', label='cnn_accuracy')               # 蓝线为准确率\n",
    "        plt.plot(step_list, loss_list, color='r', label='cnn_loss', linestyle='dashed')   # 红虚线为损失值\n",
    "        plt.xlabel(\"Step\")              # x轴取名\n",
    "        plt.ylabel(\"Accuracy/Loss\")     # y轴取名\n",
    "        plt.legend()                    # 给图加上图例\n",
    "        plt.show()                      # 显示图片\n",
    "\n",
    "    except tf.errors.OutOfRangeError:\n",
    "        print('Done training -- epoch limit reached')\n",
    "    finally:\n",
    "        coord.request_stop()   # 停止所有线程\n",
    "\n",
    "    coord.join(threads)   # 等待所有线程结束\n",
    "    sess.close()          # 关闭会话"
   ]
  }
 ],
 "metadata": {
  "kernelspec": {
   "display_name": "Python 3 (ipykernel)",
   "language": "python",
   "name": "python3"
  },
  "language_info": {
   "codemirror_mode": {
    "name": "ipython",
    "version": 3
   },
   "file_extension": ".py",
   "mimetype": "text/x-python",
   "name": "python",
   "nbconvert_exporter": "python",
   "pygments_lexer": "ipython3",
   "version": "3.9.12"
  }
 },
 "nbformat": 4,
 "nbformat_minor": 5
}
