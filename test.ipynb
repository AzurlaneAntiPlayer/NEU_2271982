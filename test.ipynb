{
 "cells": [
  {
   "cell_type": "code",
   "execution_count": 1,
   "id": "6a343d63",
   "metadata": {},
   "outputs": [
    {
     "ename": "ModuleNotFoundError",
     "evalue": "No module named 'input_data'",
     "output_type": "error",
     "traceback": [
      "\u001b[1;31m---------------------------------------------------------------------------\u001b[0m",
      "\u001b[1;31mModuleNotFoundError\u001b[0m                       Traceback (most recent call last)",
      "Input \u001b[1;32mIn [1]\u001b[0m, in \u001b[0;36m<cell line: 9>\u001b[1;34m()\u001b[0m\n\u001b[0;32m      7\u001b[0m \u001b[38;5;28;01mfrom\u001b[39;00m \u001b[38;5;21;01mPIL\u001b[39;00m \u001b[38;5;28;01mimport\u001b[39;00m Image\n\u001b[0;32m      8\u001b[0m \u001b[38;5;28;01mimport\u001b[39;00m \u001b[38;5;21;01mmatplotlib\u001b[39;00m\u001b[38;5;21;01m.\u001b[39;00m\u001b[38;5;21;01mpyplot\u001b[39;00m \u001b[38;5;28;01mas\u001b[39;00m \u001b[38;5;21;01mplt\u001b[39;00m\n\u001b[1;32m----> 9\u001b[0m \u001b[38;5;28;01mimport\u001b[39;00m \u001b[38;5;21;01minput_data\u001b[39;00m\n\u001b[0;32m     10\u001b[0m \u001b[38;5;28;01mimport\u001b[39;00m \u001b[38;5;21;01mmodel\u001b[39;00m\n\u001b[0;32m     11\u001b[0m \u001b[38;5;28;01mimport\u001b[39;00m \u001b[38;5;21;01mnumpy\u001b[39;00m \u001b[38;5;28;01mas\u001b[39;00m \u001b[38;5;21;01mnp\u001b[39;00m\n",
      "\u001b[1;31mModuleNotFoundError\u001b[0m: No module named 'input_data'"
     ]
    }
   ],
   "source": [
    "\"\"\"\n",
    "    test.py: 用训练好的模型对随机一张图片进行猫狗预测\n",
    "\"\"\"\n",
    "# import tensorflow as tf\n",
    "import tensorflow.compat.v1 as tf\n",
    "tf.disable_v2_behavior()\n",
    "from PIL import Image\n",
    "import matplotlib.pyplot as plt\n",
    "import input_data\n",
    "import model\n",
    "import numpy as np"
   ]
  },
  {
   "cell_type": "code",
   "execution_count": null,
   "id": "9f666d6c",
   "metadata": {},
   "outputs": [],
   "source": [
    "def get_one_image(img_list):\n",
    "    \"\"\"\n",
    "        输入：\n",
    "            img_list：图片路径列表\n",
    "        返回：\n",
    "            image：从图片路径列表中随机挑选的一张图片\n",
    "    \"\"\"\n",
    "    n = len(img_list)                  # 获取文件夹下图片的总数\n",
    "    ind = np.random.randint(0, n)      # 从 0~n 中随机选取下标\n",
    "    img_dir = img_list[ind]            # 根据下标得到一张随机图片的路径\n",
    "\n",
    "    image = Image.open(img_dir)        # 打开img_dir路径下的图片\n",
    "    image = image.resize([208, 208])   # 改变图片的大小，定为宽高都为208像素\n",
    "    image = np.array(image)            # 转成多维数组，向量的格式\n",
    "    return image"
   ]
  },
  {
   "cell_type": "code",
   "execution_count": null,
   "id": "09cf9b45",
   "metadata": {},
   "outputs": [],
   "source": [
    "def evaluate_one_image():\n",
    "    # 修改成自己测试集的文件夹路径\n",
    "    test_dir = 'D:/Software/ANACONDA/envs/tensorflow2.0-cpu/test/'\n",
    "\n",
    "    test_img = input_data.get_files(test_dir)[0]   # 获取测试集的图片路径列表\n",
    "    image_array = get_one_image(test_img)          # 从测试集中随机选取一张图片\n",
    "\n",
    "    # 将这个图设置为默认图，会话设置成默认对话，这样在with语句外面也能使用这个会话执行。\n",
    "    with tf.Graph().as_default():    # 参考：https://blog.csdn.net/nanhuaibeian/article/details/101862790\n",
    "        BATCH_SIZE = 1               # 这里我们要输入的是一张图(预测这张随机图)\n",
    "        N_CLASSES = 2                # 还是二分类(猫或狗)\n",
    "\n",
    "        image = tf.cast(image_array, tf.float32)                    # 将列表转换成tf能够识别的格式\n",
    "        image = tf.image.per_image_standardization(image)           # 图片标准化处理\n",
    "        image = tf.reshape(image, [1, 208, 208, 3])                 # 改变图片的形状\n",
    "        logit = model.cnn_inference(image, BATCH_SIZE, N_CLASSES)   # 得到神经网络输出层的预测结果\n",
    "        logit = tf.nn.softmax(logit)                                # 进行归一化处理（使得预测概率之和为1）\n",
    "\n",
    "        x = tf.placeholder(tf.float32, shape=[208, 208, 3])         # x变量用于占位，输入的数据要满足这里定的shape\n",
    "\n",
    "        # 修改成自己训练好的模型路径\n",
    "        logs_train_dir = 'D:/Software/ANACONDA/envs/tensorflow2.0-cpu/log/'\n",
    "\n",
    "        saver = tf.train.Saver()\n",
    "\n",
    "        with tf.Session() as sess:\n",
    "            print(\"从指定路径中加载模型...\")\n",
    "            ckpt = tf.train.get_checkpoint_state(logs_train_dir)   # 读取路径下的checkpoint\n",
    "            # 载入模型，不需要提供模型的名字，会通过 checkpoint 文件定位到最新保存的模型\n",
    "            if ckpt and ckpt.model_checkpoint_path:                # checkpoint存在且其存放的变量不为空\n",
    "                global_step = ckpt.model_checkpoint_path.split('/')[-1].split('-')[-1]   # 通过切割获取ckpt变量中的步长\n",
    "                saver.restore(sess, ckpt.model_checkpoint_path)    # 当前会话中，恢复该路径下模型的所有参数（即调用训练好的模型）\n",
    "                print('模型加载成功, 训练的步数为： %s' % global_step)\n",
    "            else:\n",
    "                print('模型加载失败，checkpoint文件没找到！')\n",
    "\n",
    "            # 通过saver.restore()恢复了训练模型的参数（即：神经网络中的权重值），这样logit才能得到想要的预测结果\n",
    "            # 执行sess.run()才能运行，并返回结果数据\n",
    "            prediction = sess.run(logit, feed_dict={x: image_array})   # 输入随机抽取的那张图片数据，得到预测值\n",
    "            max_index = np.argmax(prediction)                          # 获取输出结果中最大概率的索引(下标)\n",
    "            if max_index == 0:\n",
    "                pre = prediction[:, 0][0] * 100\n",
    "                print('图片是猫的概率为： {:.2f}%'.format(pre))       # 下标为0，则为猫，并打印是猫的概率\n",
    "            else:\n",
    "                pre = prediction[:, 1][0] * 100\n",
    "                print('图片是狗的概率为： {:.2f}%'.format(pre))       # 下标为1，则为狗，并打印是狗的概率\n",
    "\n",
    "    plt.imshow(image_array)                                        # 接受图片并处理\n",
    "    plt.show()                                                     # 显示图片\n"
   ]
  },
  {
   "cell_type": "code",
   "execution_count": null,
   "id": "ddffbd70",
   "metadata": {},
   "outputs": [],
   "source": [
    "if __name__ == '__main__':\n",
    "    # 调用方法，开始测试\n",
    "    evaluate_one_image()"
   ]
  }
 ],
 "metadata": {
  "kernelspec": {
   "display_name": "Python 3 (ipykernel)",
   "language": "python",
   "name": "python3"
  },
  "language_info": {
   "codemirror_mode": {
    "name": "ipython",
    "version": 3
   },
   "file_extension": ".py",
   "mimetype": "text/x-python",
   "name": "python",
   "nbconvert_exporter": "python",
   "pygments_lexer": "ipython3",
   "version": "3.9.12"
  }
 },
 "nbformat": 4,
 "nbformat_minor": 5
}
